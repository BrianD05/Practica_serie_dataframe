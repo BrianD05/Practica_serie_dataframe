{
 "cells": [
  {
   "cell_type": "markdown",
   "id": "0fbbdcc3",
   "metadata": {},
   "source": [
    "# Ejercicio 1: Operaciones estadísticas"
   ]
  },
  {
   "cell_type": "code",
   "execution_count": 2,
   "id": "8c4a4e75",
   "metadata": {},
   "outputs": [],
   "source": [
    "import pandas as pd\n",
    "\n",
    "temperaturas = pd.Series([24,22,44,22,33,44],name = \"Temperaturas\")"
   ]
  },
  {
   "cell_type": "code",
   "execution_count": 4,
   "id": "cc12b3a4",
   "metadata": {},
   "outputs": [
    {
     "name": "stdout",
     "output_type": "stream",
     "text": [
      "28.5\n"
     ]
    }
   ],
   "source": [
    "# Calcular la mediana de la Serie de temperaturas\n",
    "\n",
    "mediana_temperaturas = temperaturas.median()\n",
    "\n",
    "print(mediana_temperaturas)"
   ]
  },
  {
   "cell_type": "code",
   "execution_count": 6,
   "id": "ec161497",
   "metadata": {},
   "outputs": [
    {
     "name": "stdout",
     "output_type": "stream",
     "text": [
      "22\n"
     ]
    }
   ],
   "source": [
    "# Calcular el rango de la Serie (diferencia entre el máximo y el mínimo)\n",
    "\n",
    "diferencia_max_min = temperaturas.max() - temperaturas.min()\n",
    "\n",
    "print(diferencia_max_min)"
   ]
  },
  {
   "cell_type": "markdown",
   "id": "a1a99317",
   "metadata": {},
   "source": [
    "# Ejercicio 2: Filtrado y reemplazo de valores"
   ]
  },
  {
   "cell_type": "code",
   "execution_count": 9,
   "id": "c1188abb",
   "metadata": {},
   "outputs": [
    {
     "name": "stdout",
     "output_type": "stream",
     "text": [
      "Series([], Name: Temperaturas, dtype: int64)\n"
     ]
    }
   ],
   "source": [
    "# Filtrar temperaturas entre 25 y 30 grados\n",
    "\n",
    "temperaturas_filtradas = temperaturas[(temperaturas >= 25) & (temperaturas <= 30)]\n",
    "\n",
    "print(temperaturas_filtradas)"
   ]
  },
  {
   "cell_type": "code",
   "execution_count": 11,
   "id": "cb4e4aef",
   "metadata": {},
   "outputs": [
    {
     "name": "stdout",
     "output_type": "stream",
     "text": [
      "0    24.0\n",
      "1    22.0\n",
      "2     NaN\n",
      "3    22.0\n",
      "4     NaN\n",
      "5     NaN\n",
      "Name: Temperaturas, dtype: float64\n"
     ]
    }
   ],
   "source": [
    "# Reemplazar las temperaturas mayores que 30 con NaN\n",
    "\n",
    "temperaturas = temperaturas.where(temperaturas <=30,other=pd.NA)\n",
    "\n",
    "print(temperaturas)"
   ]
  },
  {
   "cell_type": "markdown",
   "id": "f3bf4f40",
   "metadata": {},
   "source": [
    "# Ejercicio 3: Operaciones de cadena en Series"
   ]
  },
  {
   "cell_type": "code",
   "execution_count": 12,
   "id": "ed735292",
   "metadata": {},
   "outputs": [
    {
     "name": "stdout",
     "output_type": "stream",
     "text": [
      "0      Ana\n",
      "1     Juan\n",
      "2    Maria\n",
      "3    Pedro\n",
      "4     Luis\n",
      "Name: Nombres, dtype: object\n"
     ]
    }
   ],
   "source": [
    "# Crear una Serie de nombres\n",
    "\n",
    "nombres = pd.Series([\"Ana\",\"Juan\",\"Maria\",\"Pedro\",\"Luis\"],name = \"Nombres\")\n",
    "\n",
    "print(nombres)"
   ]
  },
  {
   "cell_type": "code",
   "execution_count": 14,
   "id": "15704e5c",
   "metadata": {},
   "outputs": [
    {
     "name": "stdout",
     "output_type": "stream",
     "text": [
      "0      ANA\n",
      "1     JUAN\n",
      "2    MARIA\n",
      "3    PEDRO\n",
      "4     LUIS\n",
      "Name: Nombres, dtype: object\n"
     ]
    }
   ],
   "source": [
    "# Convertir todos los nombres a mayúsculas\n",
    "\n",
    "nombres_mayuscula = nombres.str.upper()\n",
    "\n",
    "print(nombres_mayuscula)"
   ]
  },
  {
   "cell_type": "markdown",
   "id": "2beeb208",
   "metadata": {},
   "source": [
    "# Ejercicio 4: Manipulación de fechas en Series"
   ]
  },
  {
   "cell_type": "code",
   "execution_count": 16,
   "id": "af35f953",
   "metadata": {},
   "outputs": [
    {
     "name": "stdout",
     "output_type": "stream",
     "text": [
      "Dias de la semana para cada fecha: \n",
      "0       Sunday\n",
      "1       Monday\n",
      "2      Tuesday\n",
      "3    Wednesday\n",
      "4     Thursday\n",
      "Name: Fechas, dtype: object\n"
     ]
    }
   ],
   "source": [
    "# Crear una Serie de fechas\n",
    "\n",
    "fechas = pd.Series(pd.date_range(\"2023-01-01\",periods = 5,freq = \"D\"),name = \"Fechas\")\n",
    "\n",
    "# Extraer el día de la semana de cada fecha\n",
    "\n",
    "dia_semana = fechas.dt.day_name()\n",
    "\n",
    "print(\"Dias de la semana para cada fecha: \")\n",
    "\n",
    "print(dia_semana)"
   ]
  },
  {
   "cell_type": "markdown",
   "id": "3233b0cd",
   "metadata": {},
   "source": [
    "# Ejercicio 10: Combinar Series en un DataFrame"
   ]
  },
  {
   "cell_type": "code",
   "execution_count": 17,
   "id": "2aaa86bb",
   "metadata": {},
   "outputs": [
    {
     "name": "stdout",
     "output_type": "stream",
     "text": [
      "   Temperaturas  Precipitaciones\n",
      "0          24.0              0.2\n",
      "1          22.0              0.0\n",
      "2           NaN              0.5\n",
      "3          22.0              0.1\n",
      "4           NaN              0.3\n",
      "5           NaN              NaN\n"
     ]
    }
   ],
   "source": [
    "precipitaciones = pd.Series([0.2,0.0,0.5,0.1,0.3],name = \"Precipitaciones\")\n",
    "\n",
    "# Crear un DataFrame combinando las Series de temperaturas y precipitaciones\n",
    "\n",
    "df_clima = pd.DataFrame({\"Temperaturas\": temperaturas,\"Precipitaciones\":precipitaciones})\n",
    "\n",
    "print(df_clima)"
   ]
  },
  {
   "cell_type": "code",
   "execution_count": null,
   "id": "82b8ec85",
   "metadata": {},
   "outputs": [],
   "source": []
  }
 ],
 "metadata": {
  "kernelspec": {
   "display_name": "Python 3 (ipykernel)",
   "language": "python",
   "name": "python3"
  },
  "language_info": {
   "codemirror_mode": {
    "name": "ipython",
    "version": 3
   },
   "file_extension": ".py",
   "mimetype": "text/x-python",
   "name": "python",
   "nbconvert_exporter": "python",
   "pygments_lexer": "ipython3",
   "version": "3.11.3"
  }
 },
 "nbformat": 4,
 "nbformat_minor": 5
}
