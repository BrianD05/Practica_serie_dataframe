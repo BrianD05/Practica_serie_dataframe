{
 "cells": [
  {
   "cell_type": "code",
   "execution_count": 3,
   "id": "0b8af130",
   "metadata": {},
   "outputs": [],
   "source": [
    "import pandas as pd"
   ]
  },
  {
   "cell_type": "code",
   "execution_count": 4,
   "id": "6a25fa31",
   "metadata": {},
   "outputs": [
    {
     "name": "stdout",
     "output_type": "stream",
     "text": [
      "0             Milanesa\n",
      "1                Guiso\n",
      "2    Tarta de Espinaca\n",
      "dtype: object\n"
     ]
    }
   ],
   "source": [
    "#Crea una Serie con los nombres de tus tres comidas favoritas\n",
    "\n",
    "comidas_favoritas = pd.Series([\"Milanesa\",\"Guiso\",\"Tarta de Espinaca\"])\n",
    "\n",
    "print(comidas_favoritas)\n",
    "\n"
   ]
  },
  {
   "cell_type": "code",
   "execution_count": 5,
   "id": "d3f6e7b6",
   "metadata": {},
   "outputs": [
    {
     "name": "stdout",
     "output_type": "stream",
     "text": [
      "0     8\n",
      "1     5\n",
      "2    17\n",
      "dtype: int64\n"
     ]
    }
   ],
   "source": [
    "#Muestra la longitud de cada palabra en la Serie de comidas\n",
    "\n",
    "longitud_comida = comidas_favoritas.str.len()\n",
    "\n",
    "print(longitud_comida)"
   ]
  },
  {
   "cell_type": "code",
   "execution_count": 6,
   "id": "9e5e7d8c",
   "metadata": {},
   "outputs": [
    {
     "name": "stdout",
     "output_type": "stream",
     "text": [
      "0    Marron\n",
      "1     Verde\n",
      "2     Negro\n",
      "0      Azul\n",
      "1      Rojo\n",
      "2     Verde\n",
      "dtype: object\n"
     ]
    }
   ],
   "source": [
    "#Crea una Serie con tus tres colores favoritos y concaténala con otra Serie de tres colores adicionales.\n",
    "\n",
    "colores_adicionales = pd.Series(['Azul', 'Rojo', 'Verde'])\n",
    "\n",
    "colores_favoritos = pd.Series([\"Marron\",\"Verde\",\"Negro\"])\n",
    "\n",
    "colores_unidos = pd.concat([colores_favoritos,colores_adicionales])\n",
    "\n",
    "print(colores_unidos)"
   ]
  },
  {
   "cell_type": "code",
   "execution_count": 7,
   "id": "b3de449d",
   "metadata": {},
   "outputs": [
    {
     "name": "stdout",
     "output_type": "stream",
     "text": [
      "1                   Inception\n",
      "2    The Shawshank Redemption\n",
      "0                     Titanic\n",
      "dtype: object\n"
     ]
    }
   ],
   "source": [
    "#Crea una Serie con tus tres películas favoritas y ordénalas alfabéticamente\n",
    "\n",
    "peliculas_favoritas = pd.Series(['Titanic', 'Inception', 'The Shawshank Redemption'])\n",
    "\n",
    "peliculas_ordenadas = peliculas_favoritas.sort_values()\n",
    "\n",
    "print(peliculas_ordenadas)"
   ]
  },
  {
   "cell_type": "code",
   "execution_count": 8,
   "id": "f709d371",
   "metadata": {},
   "outputs": [
    {
     "name": "stdout",
     "output_type": "stream",
     "text": [
      "27.714285714285715\n"
     ]
    }
   ],
   "source": [
    "#Crea una Serie con temperaturas diarias de una semana y calcula la temperatura promedio\n",
    "\n",
    "temperaturas_semana = pd.Series([25,25,12,44,22,11,55])\n",
    "\n",
    "temperatura_promedio = temperaturas_semana.mean()\n",
    "\n",
    "print(temperatura_promedio)"
   ]
  },
  {
   "cell_type": "code",
   "execution_count": 9,
   "id": "161505a7",
   "metadata": {},
   "outputs": [
    {
     "name": "stdout",
     "output_type": "stream",
     "text": [
      "9.0\n"
     ]
    }
   ],
   "source": [
    "#Crea una Serie con tus tres asignaturas favoritas y asigna una calificación del 1 al 10 a cada una. Calcula el promedio de calificaciones\n",
    "\n",
    "asignaturas_calificaciones = pd.Series({'Matemáticas': 9, 'Historia': 8, 'Inglés': 10})\n",
    "\n",
    "promedio_calificaciones = asignaturas_calificaciones.mean()\n",
    "\n",
    "print(promedio_calificaciones)"
   ]
  },
  {
   "cell_type": "code",
   "execution_count": 10,
   "id": "b2921730",
   "metadata": {},
   "outputs": [
    {
     "name": "stdout",
     "output_type": "stream",
     "text": [
      "Index(['Sunday', 'Monday', 'Tuesday', 'Wednesday', 'Thursday', 'Friday',\n",
      "       'Saturday'],\n",
      "      dtype='object')\n"
     ]
    }
   ],
   "source": [
    "#Crea una Serie con fechas representando días de la semana y muestra el día de la semana correspondiente para cada fecha\n",
    "fechas_semana = pd.date_range(start='2023-01-01', periods=7, freq='D')\n",
    "\n",
    "dias_semana = fechas_semana.day_name()\n",
    "\n",
    "print(dias_semana)\n"
   ]
  },
  {
   "cell_type": "code",
   "execution_count": 12,
   "id": "eec2a51d",
   "metadata": {},
   "outputs": [
    {
     "name": "stdout",
     "output_type": "stream",
     "text": [
      "0          NaN\n",
      "1     5.000000\n",
      "2    -6.666667\n",
      "3    12.244898\n",
      "4     4.545455\n",
      "dtype: float64\n"
     ]
    }
   ],
   "source": [
    "#Crea una Serie con precios de acciones para cinco días y calcula el rendimiento diario\n",
    "\n",
    "precio_acciones = pd.Series([100,105,98,110,115])\n",
    "\n",
    "rendimiento_diario = precio_acciones.pct_change() * 100\n",
    "\n",
    "print(rendimiento_diario)"
   ]
  },
  {
   "cell_type": "code",
   "execution_count": 14,
   "id": "acbd861c",
   "metadata": {},
   "outputs": [
    {
     "name": "stdout",
     "output_type": "stream",
     "text": [
      "1        Data\n",
      "2    Analysis\n",
      "3      Pandas\n",
      "dtype: object\n"
     ]
    }
   ],
   "source": [
    "#Crea una Serie con palabras y encuentra las palabras que contienen la letra 'a'\n",
    "\n",
    "palabras = pd.Series([\"Python\",\"Data\",\"Analysis\",\"Pandas\"])\n",
    "\n",
    "palabras_con_a = palabras[palabras.str.contains(\"a\")]\n",
    "\n",
    "\n",
    "print(palabras_con_a)"
   ]
  },
  {
   "cell_type": "code",
   "execution_count": 15,
   "id": "e16babe6",
   "metadata": {},
   "outputs": [
    {
     "name": "stdout",
     "output_type": "stream",
     "text": [
      "4\n"
     ]
    }
   ],
   "source": [
    "#Crea una Serie con tus tres ciudades favoritas y cuenta cuántas veces aparece la letra 'a'\n",
    "\n",
    "ciudades_favoritas = pd.Series(['Paris', 'Barcelona', 'Amsterdam'])\n",
    "conteo_letra_a = ciudades_favoritas.str.count('a').sum()\n",
    "\n",
    "print(conteo_letra_a)\n"
   ]
  },
  {
   "cell_type": "code",
   "execution_count": null,
   "id": "10f2e23a",
   "metadata": {},
   "outputs": [],
   "source": []
  },
  {
   "cell_type": "code",
   "execution_count": null,
   "id": "58c81b3a",
   "metadata": {},
   "outputs": [],
   "source": []
  }
 ],
 "metadata": {
  "kernelspec": {
   "display_name": "Python 3 (ipykernel)",
   "language": "python",
   "name": "python3"
  },
  "language_info": {
   "codemirror_mode": {
    "name": "ipython",
    "version": 3
   },
   "file_extension": ".py",
   "mimetype": "text/x-python",
   "name": "python",
   "nbconvert_exporter": "python",
   "pygments_lexer": "ipython3",
   "version": "3.11.3"
  }
 },
 "nbformat": 4,
 "nbformat_minor": 5
}
