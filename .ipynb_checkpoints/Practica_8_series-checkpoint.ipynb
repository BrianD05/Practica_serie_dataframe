{
 "cells": [
  {
   "cell_type": "code",
   "execution_count": 1,
   "id": "bf18a674",
   "metadata": {},
   "outputs": [
    {
     "name": "stdout",
     "output_type": "stream",
     "text": [
      "0    Futbol\n",
      "1     Voley\n",
      "2     Tenis\n",
      "dtype: object\n"
     ]
    }
   ],
   "source": [
    "import pandas as pd\n",
    "\n",
    "#Crea una Serie con tus tres deportes favoritos\n",
    "\n",
    "deportes_favoritos = pd.Series([\"Futbol\",\"Voley\",\"Tenis\"])\n",
    "\n",
    "print(deportes_favoritos)"
   ]
  },
  {
   "cell_type": "code",
   "execution_count": 2,
   "id": "118c6cb2",
   "metadata": {},
   "outputs": [
    {
     "name": "stdout",
     "output_type": "stream",
     "text": [
      "36.333333333333336\n"
     ]
    }
   ],
   "source": [
    "#Crea una Serie con las edades de tres personas y calcula la edad promedio\n",
    "\n",
    "edades_personas = pd.Series({\"Juan\":33,\"Marcos\":22,\"Quique\":54})\n",
    "\n",
    "edad_promedio = edades_personas.mean()\n",
    "\n",
    "print(edad_promedio)"
   ]
  },
  {
   "cell_type": "code",
   "execution_count": 4,
   "id": "22f39da6",
   "metadata": {},
   "outputs": [
    {
     "name": "stdout",
     "output_type": "stream",
     "text": [
      "1      Lengua\n",
      "2    Biologia\n",
      "dtype: object\n"
     ]
    }
   ],
   "source": [
    "#Crea una Serie con tus tres asignaturas menos favoritas y elimina una de ellas\n",
    "\n",
    "asignaturas_menos_favoritas = pd.Series([\"Historia\",\"Lengua\",\"Biologia\"])\n",
    "\n",
    "eliminar_asignatura = asignaturas_menos_favoritas[asignaturas_menos_favoritas !=\"Historia\"]\n",
    "\n",
    "print(eliminar_asignatura)"
   ]
  },
  {
   "cell_type": "code",
   "execution_count": 7,
   "id": "48d71e5a",
   "metadata": {},
   "outputs": [
    {
     "name": "stdout",
     "output_type": "stream",
     "text": [
      "79\n"
     ]
    }
   ],
   "source": [
    "#Crea una Serie con los precios de cuatro productos y calcula el precio total\n",
    "\n",
    "precio_productos = pd.Series({\"Banana\":23,\"Kiwi\":22,\"Leche\":22,\"Azucar\":12})\n",
    "\n",
    "precio_total = precio_productos.sum()\n",
    "\n",
    "print(precio_total)\n",
    "\n"
   ]
  },
  {
   "cell_type": "code",
   "execution_count": 8,
   "id": "32ef74ff",
   "metadata": {},
   "outputs": [
    {
     "name": "stdout",
     "output_type": "stream",
     "text": [
      "6\n"
     ]
    }
   ],
   "source": [
    "#Crea una Serie con tus tres libros favoritos y cuenta cuántas veces aparece la letra 'o'\n",
    "\n",
    "libros_favoritos = pd.Series([\"El senior de los cielos\",\"1985\",\"Robison Crusoe\"])\n",
    "\n",
    "conteo_letra_o = libros_favoritos.str.count(\"o\").sum()\n",
    "\n",
    "print(conteo_letra_o)"
   ]
  },
  {
   "cell_type": "code",
   "execution_count": 9,
   "id": "6ffde82f",
   "metadata": {},
   "outputs": [
    {
     "name": "stdout",
     "output_type": "stream",
     "text": [
      "DatetimeIndex(['2023-01-02', '2023-01-03', '2023-01-04', '2023-01-05',\n",
      "               '2023-01-06'],\n",
      "              dtype='datetime64[ns]', freq='D')\n"
     ]
    }
   ],
   "source": [
    "#Crea una Serie con fechas representando días de la semana y muestra solo los días hábiles (lunes a viernes).\n",
    "\n",
    "fechas_semana = pd.date_range(start='2023-01-01', periods=7, freq='D')\n",
    "dias_habiles = fechas_semana[fechas_semana.weekday < 5]\n",
    "\n",
    "print(dias_habiles)"
   ]
  },
  {
   "cell_type": "code",
   "execution_count": 10,
   "id": "b816ceab",
   "metadata": {},
   "outputs": [
    {
     "name": "stdout",
     "output_type": "stream",
     "text": [
      "Electronica\n"
     ]
    }
   ],
   "source": [
    "#Crea una Serie con tus tres géneros musicales favoritos y encuentra el género más largo\n",
    "\n",
    "generos_musicales = pd.Series([\"Rock\",\"Electronica\",\"Jazz\"])\n",
    "\n",
    "genero_mas_largo = generos_musicales[generos_musicales.str.len().idxmax()]\n",
    "\n",
    "print(genero_mas_largo)"
   ]
  },
  {
   "cell_type": "code",
   "execution_count": 11,
   "id": "7e841ef0",
   "metadata": {},
   "outputs": [
    {
     "name": "stdout",
     "output_type": "stream",
     "text": [
      "   Amarillo  Azul  Rojo  Verde\n",
      "0         0     0     1      0\n",
      "1         0     1     0      0\n",
      "2         0     0     0      1\n",
      "3         0     0     1      0\n",
      "4         1     0     0      0\n"
     ]
    }
   ],
   "source": [
    "#Crea una Serie con datos categóricos y conviértelos en variables dummy (one-hot encoding)\n",
    "\n",
    "datos_categoricos = pd.Series(['Rojo', 'Azul', 'Verde', 'Rojo', 'Amarillo'])\n",
    "\n",
    "variables_dummy = pd.get_dummies(datos_categoricos)\n",
    "\n",
    "print(variables_dummy)"
   ]
  },
  {
   "cell_type": "code",
   "execution_count": null,
   "id": "a593f7ed",
   "metadata": {},
   "outputs": [],
   "source": []
  },
  {
   "cell_type": "code",
   "execution_count": null,
   "id": "109730ba",
   "metadata": {},
   "outputs": [],
   "source": []
  },
  {
   "cell_type": "code",
   "execution_count": null,
   "id": "28e2f26d",
   "metadata": {},
   "outputs": [],
   "source": []
  },
  {
   "cell_type": "code",
   "execution_count": null,
   "id": "90ed4c7b",
   "metadata": {},
   "outputs": [],
   "source": []
  },
  {
   "cell_type": "code",
   "execution_count": null,
   "id": "da1bc7b6",
   "metadata": {},
   "outputs": [],
   "source": []
  }
 ],
 "metadata": {
  "kernelspec": {
   "display_name": "Python 3 (ipykernel)",
   "language": "python",
   "name": "python3"
  },
  "language_info": {
   "codemirror_mode": {
    "name": "ipython",
    "version": 3
   },
   "file_extension": ".py",
   "mimetype": "text/x-python",
   "name": "python",
   "nbconvert_exporter": "python",
   "pygments_lexer": "ipython3",
   "version": "3.11.3"
  }
 },
 "nbformat": 4,
 "nbformat_minor": 5
}
