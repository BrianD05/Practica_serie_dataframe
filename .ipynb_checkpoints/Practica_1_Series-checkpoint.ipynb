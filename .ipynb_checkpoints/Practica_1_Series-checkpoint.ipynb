{
 "cells": [
  {
   "cell_type": "markdown",
   "id": "a5a93d8c",
   "metadata": {},
   "source": [
    "# Ejercicio 1: Crear una Serie en Pandas"
   ]
  },
  {
   "cell_type": "code",
   "execution_count": 1,
   "id": "9bd462e7",
   "metadata": {},
   "outputs": [
    {
     "name": "stdout",
     "output_type": "stream",
     "text": [
      "0    29\n",
      "1    54\n",
      "2    22\n",
      "3    33\n",
      "4    54\n",
      "Name: Temperaturas, dtype: int64\n"
     ]
    }
   ],
   "source": [
    "import pandas as pd\n",
    "# Crear una Serie con datos de temperaturas\n",
    "\n",
    "temperaturas = pd.Series([29,54,22,33,54],name=\"Temperaturas\")\n",
    "\n",
    "print(temperaturas)"
   ]
  },
  {
   "cell_type": "markdown",
   "id": "adfb1693",
   "metadata": {},
   "source": [
    "# Ejercicio 2: Operaciones básicas en Series"
   ]
  },
  {
   "cell_type": "code",
   "execution_count": 2,
   "id": "bf18a3d6",
   "metadata": {},
   "outputs": [
    {
     "name": "stdout",
     "output_type": "stream",
     "text": [
      "La media es  38.4\n",
      "La Desviacion Estandar es  14.774978849392646\n"
     ]
    }
   ],
   "source": [
    "# Calcular la media y la desviación estándar de la Serie de temperaturas\n",
    "\n",
    "media_temperaturas = temperaturas.mean()\n",
    "\n",
    "std_temperaturas = temperaturas.std()\n",
    "\n",
    "print(\"La media es \",media_temperaturas)\n",
    "\n",
    "print(\"La Desviacion Estandar es \",std_temperaturas)"
   ]
  },
  {
   "cell_type": "markdown",
   "id": "20c08d45",
   "metadata": {},
   "source": [
    "# Ejercicio 3: Filtrar y seleccionar datos en una Serie"
   ]
  },
  {
   "cell_type": "code",
   "execution_count": 4,
   "id": "2c300850",
   "metadata": {},
   "outputs": [
    {
     "name": "stdout",
     "output_type": "stream",
     "text": [
      "Temperaturas Mayores a 30\n",
      "1    54\n",
      "3    33\n",
      "4    54\n",
      "Name: Temperaturas, dtype: int64\n"
     ]
    }
   ],
   "source": [
    "# Seleccionar temperaturas mayores que 30\n",
    "\n",
    "temperaturas_altas = temperaturas[temperaturas > 30]\n",
    "\n",
    "print(\"Temperaturas Mayores a 30\")\n",
    "\n",
    "print(temperaturas_altas)"
   ]
  },
  {
   "cell_type": "markdown",
   "id": "9c713d4d",
   "metadata": {},
   "source": [
    "# Ejercicio 4: Aplicar funciones a una Serie"
   ]
  },
  {
   "cell_type": "code",
   "execution_count": 5,
   "id": "374e7cd9",
   "metadata": {},
   "outputs": [
    {
     "name": "stdout",
     "output_type": "stream",
     "text": [
      "0     84.2\n",
      "1    129.2\n",
      "2     71.6\n",
      "3     91.4\n",
      "4    129.2\n",
      "Name: Temperaturas, dtype: float64\n"
     ]
    }
   ],
   "source": [
    "# Aplicar la función lambda para convertir las temperaturas de Celsius a Fahrenheit\n",
    "\n",
    "temperaturas_fahrenheit = temperaturas.apply(lambda x:(x * 9/5) + 32)\n",
    "\n",
    "print(temperaturas_fahrenheit)"
   ]
  },
  {
   "cell_type": "markdown",
   "id": "156c76cb",
   "metadata": {},
   "source": [
    "# Ejercicio 5: Agregar dos Series"
   ]
  },
  {
   "cell_type": "code",
   "execution_count": 11,
   "id": "5bf0f071",
   "metadata": {},
   "outputs": [
    {
     "name": "stdout",
     "output_type": "stream",
     "text": [
      "0    29\n",
      "1    54\n",
      "2    22\n",
      "3    33\n",
      "4    54\n",
      "Name: Temperaturas, dtype: int64\n",
      "\n",
      "0    26\n",
      "1    28\n",
      "2    22\n",
      "3    29\n",
      "4    33\n",
      "Name: Temperaturas_otra_Ciudad, dtype: int64\n",
      "\n",
      "La Suma de Temperaturas es\n",
      "\n",
      "0    55\n",
      "1    82\n",
      "2    44\n",
      "3    62\n",
      "4    87\n",
      "dtype: int64\n"
     ]
    }
   ],
   "source": [
    "# Crear otra Serie de temperaturas y sumarlas\n",
    "\n",
    "temperaturas_otra_ciudad = pd.Series([26,28,22,29,33],name = \"Temperaturas_otra_Ciudad\")\n",
    "\n",
    "suma_temperaturas = temperaturas + temperaturas_otra_ciudad\n",
    "\n",
    "print(temperaturas)\n",
    "print()\n",
    "print(temperaturas_otra_ciudad)\n",
    "print()\n",
    "print(\"La Suma de Temperaturas es\")\n",
    "print()\n",
    "print(suma_temperaturas)"
   ]
  },
  {
   "cell_type": "code",
   "execution_count": null,
   "id": "c86f3ab0",
   "metadata": {},
   "outputs": [],
   "source": []
  },
  {
   "cell_type": "code",
   "execution_count": null,
   "id": "e4afe52e",
   "metadata": {},
   "outputs": [],
   "source": []
  },
  {
   "cell_type": "code",
   "execution_count": null,
   "id": "6ff16201",
   "metadata": {},
   "outputs": [],
   "source": []
  },
  {
   "cell_type": "code",
   "execution_count": null,
   "id": "91d94700",
   "metadata": {},
   "outputs": [],
   "source": []
  },
  {
   "cell_type": "code",
   "execution_count": null,
   "id": "0a28d069",
   "metadata": {},
   "outputs": [],
   "source": []
  },
  {
   "cell_type": "code",
   "execution_count": null,
   "id": "599d6eb7",
   "metadata": {},
   "outputs": [],
   "source": []
  },
  {
   "cell_type": "code",
   "execution_count": null,
   "id": "3b62413e",
   "metadata": {},
   "outputs": [],
   "source": []
  },
  {
   "cell_type": "code",
   "execution_count": null,
   "id": "0e782f80",
   "metadata": {},
   "outputs": [],
   "source": []
  },
  {
   "cell_type": "code",
   "execution_count": null,
   "id": "ca5811c2",
   "metadata": {},
   "outputs": [],
   "source": []
  },
  {
   "cell_type": "code",
   "execution_count": null,
   "id": "7b23018e",
   "metadata": {},
   "outputs": [],
   "source": []
  },
  {
   "cell_type": "code",
   "execution_count": null,
   "id": "87e63382",
   "metadata": {},
   "outputs": [],
   "source": []
  }
 ],
 "metadata": {
  "kernelspec": {
   "display_name": "Python 3 (ipykernel)",
   "language": "python",
   "name": "python3"
  },
  "language_info": {
   "codemirror_mode": {
    "name": "ipython",
    "version": 3
   },
   "file_extension": ".py",
   "mimetype": "text/x-python",
   "name": "python",
   "nbconvert_exporter": "python",
   "pygments_lexer": "ipython3",
   "version": "3.11.3"
  }
 },
 "nbformat": 4,
 "nbformat_minor": 5
}
