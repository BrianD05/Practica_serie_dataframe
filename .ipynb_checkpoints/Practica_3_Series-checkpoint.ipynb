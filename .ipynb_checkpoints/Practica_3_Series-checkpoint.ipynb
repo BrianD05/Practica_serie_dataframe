{
 "cells": [
  {
   "cell_type": "markdown",
   "id": "9e7bfeb7",
   "metadata": {},
   "source": [
    "# Ejercicio 1: Crear y Manipular Series"
   ]
  },
  {
   "cell_type": "code",
   "execution_count": 2,
   "id": "704a4fbb",
   "metadata": {},
   "outputs": [
    {
     "name": "stdout",
     "output_type": "stream",
     "text": [
      "Series de Frutas\n",
      "0    Manzana\n",
      "1    Platano\n",
      "2        Uva\n",
      "3    Naranja\n",
      "4      Mango\n",
      "Name: Frutas, dtype: object\n"
     ]
    }
   ],
   "source": [
    "import pandas as pd\n",
    "# Crea una Serie con nombres de frutas: Manzana, Plátano, Uva, Naranja, Mango\n",
    "\n",
    "frutas = pd.Series([\"Manzana\",\"Platano\",\"Uva\",\"Naranja\",\"Mango\"],name = \"Frutas\")\n",
    "\n",
    "print(\"Series de Frutas\")\n",
    "print(frutas)"
   ]
  },
  {
   "cell_type": "code",
   "execution_count": 3,
   "id": "170e1987",
   "metadata": {},
   "outputs": [
    {
     "name": "stdout",
     "output_type": "stream",
     "text": [
      "5\n"
     ]
    }
   ],
   "source": [
    "# Muestra la longitud de la Serie\n",
    "\n",
    "longitud_frutas = len(frutas)\n",
    "\n",
    "print(longitud_frutas)"
   ]
  },
  {
   "cell_type": "markdown",
   "id": "4514b6fa",
   "metadata": {},
   "source": [
    "# Ejercicio 2: Operaciones Aritméticas y Estadísticas"
   ]
  },
  {
   "cell_type": "code",
   "execution_count": 4,
   "id": "05aeb413",
   "metadata": {},
   "outputs": [],
   "source": [
    "# Crea dos Series de datos: precios y cantidades\n",
    "\n",
    "precios = pd.Series([10,20,30,40,50],name = \"Precios\")\n",
    "cantidades = pd.Series([2,4,6,8,10],name = \"Cantidades\")"
   ]
  },
  {
   "cell_type": "code",
   "execution_count": 6,
   "id": "4a74b89a",
   "metadata": {},
   "outputs": [
    {
     "name": "stdout",
     "output_type": "stream",
     "text": [
      "Total Gastado\n",
      "0     20\n",
      "1     80\n",
      "2    180\n",
      "3    320\n",
      "4    500\n",
      "dtype: int64\n"
     ]
    }
   ],
   "source": [
    "# Calcula el total gastado (precio * cantidad) para cada elemento y muestra la nueva Serie\n",
    "\n",
    "total_gastado = precios * cantidades\n",
    "\n",
    "print(\"Total Gastado\")\n",
    "\n",
    "print(total_gastado)"
   ]
  },
  {
   "cell_type": "code",
   "execution_count": 10,
   "id": "ad2484b3",
   "metadata": {},
   "outputs": [
    {
     "name": "stdout",
     "output_type": "stream",
     "text": [
      "30.0\n",
      "Promedio de Precios:  30.0\n"
     ]
    }
   ],
   "source": [
    "# Calcula el promedio de los precios y muestra el resultado\n",
    "\n",
    "promedio_precios = sum(precios) / len(precios)\n",
    "\n",
    "print(promedio_precios)\n",
    "\n",
    "\n",
    "#Otra forma de hacerlo\n",
    "promedio_precio2 = precios.mean()\n",
    "\n",
    "print(f\"Promedio de Precios: \",promedio_precio2)"
   ]
  },
  {
   "cell_type": "markdown",
   "id": "86683fd6",
   "metadata": {},
   "source": [
    "# Ejercicio 3: Filtrado y Selección de Datos"
   ]
  },
  {
   "cell_type": "code",
   "execution_count": 11,
   "id": "a5f70d27",
   "metadata": {},
   "outputs": [
    {
     "name": "stdout",
     "output_type": "stream",
     "text": [
      "Frutas con la letra a\n",
      "0    Manzana\n",
      "1    Platano\n",
      "2        Uva\n",
      "3    Naranja\n",
      "4      Mango\n",
      "Name: Frutas, dtype: object\n",
      "Platano\n"
     ]
    }
   ],
   "source": [
    "# Filtra las frutas que contienen la letra 'a'\n",
    "\n",
    "frutas_con_a = frutas[frutas.str.contains(\"a\",case = False)]\n",
    "\n",
    "print(\"Frutas con la letra a\")\n",
    "print(frutas_con_a)\n",
    "\n",
    "# Selecciona la segunda fruta de la Serie\n",
    "\n",
    "segunda_fruta = frutas.iloc[1]\n",
    "\n",
    "print(segunda_fruta)\n"
   ]
  },
  {
   "cell_type": "code",
   "execution_count": 12,
   "id": "29277f2b",
   "metadata": {},
   "outputs": [
    {
     "name": "stdout",
     "output_type": "stream",
     "text": [
      "Año y Mes de las Fechas:\n",
      "0    2023-01\n",
      "1    2023-01\n",
      "2    2023-01\n",
      "3    2023-01\n",
      "4    2023-01\n",
      "Name: Fechas, dtype: period[M]\n"
     ]
    }
   ],
   "source": [
    "# Crea una Serie de fechas desde '2023-01-01' hasta '2023-01-05'\n",
    "fechas = pd.Series(pd.date_range('2023-01-01', periods=5, freq='D'), name='Fechas')\n",
    "\n",
    "# Extrae el año y el mes de cada fecha\n",
    "anio_mes_fechas = fechas.dt.to_period(\"M\")\n",
    "print(\"Año y Mes de las Fechas:\")\n",
    "print(anio_mes_fechas)\n"
   ]
  },
  {
   "cell_type": "code",
   "execution_count": null,
   "id": "3fafffde",
   "metadata": {},
   "outputs": [],
   "source": []
  }
 ],
 "metadata": {
  "kernelspec": {
   "display_name": "Python 3 (ipykernel)",
   "language": "python",
   "name": "python3"
  },
  "language_info": {
   "codemirror_mode": {
    "name": "ipython",
    "version": 3
   },
   "file_extension": ".py",
   "mimetype": "text/x-python",
   "name": "python",
   "nbconvert_exporter": "python",
   "pygments_lexer": "ipython3",
   "version": "3.11.3"
  }
 },
 "nbformat": 4,
 "nbformat_minor": 5
}
