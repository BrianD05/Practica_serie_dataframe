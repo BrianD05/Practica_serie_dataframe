{
 "cells": [
  {
   "cell_type": "markdown",
   "id": "36a26a36",
   "metadata": {},
   "source": [
    "# Indexación y Filtrado"
   ]
  },
  {
   "cell_type": "code",
   "execution_count": 9,
   "id": "aa830e54",
   "metadata": {},
   "outputs": [
    {
     "name": "stdout",
     "output_type": "stream",
     "text": [
      "78\n"
     ]
    }
   ],
   "source": [
    "import pandas as pd\n",
    "#Crea una Serie con calificaciones de estudiantes y Accede a la calificación de un estudiante específico.\n",
    "\n",
    "estudiantes = pd.Series({'EstudianteA': 85, 'EstudianteB': 92, 'EstudianteC': 78})\n",
    "\n",
    "calificacion_estudiante = estudiantes[\"EstudianteC\"]\n",
    "\n",
    "print(calificacion_estudiante)"
   ]
  },
  {
   "cell_type": "code",
   "execution_count": 10,
   "id": "a445ecf7",
   "metadata": {},
   "outputs": [
    {
     "name": "stdout",
     "output_type": "stream",
     "text": [
      "EstudianteA    85\n",
      "EstudianteB    92\n",
      "dtype: int64\n"
     ]
    }
   ],
   "source": [
    "#Filtra los estudiantes que tienen calificaciones superiores a 80\n",
    "\n",
    "filtradores = estudiantes[estudiantes.values > 80]\n",
    "\n",
    "print(filtradores)"
   ]
  },
  {
   "cell_type": "markdown",
   "id": "8795000e",
   "metadata": {},
   "source": [
    "# Agrupación"
   ]
  },
  {
   "cell_type": "code",
   "execution_count": 13,
   "id": "e179199b",
   "metadata": {},
   "outputs": [
    {
     "name": "stdout",
     "output_type": "stream",
     "text": [
      "2023-03-31    20.666667\n",
      "2023-06-30    19.000000\n",
      "Freq: Q-DEC, Name: Ventas, dtype: float64\n"
     ]
    }
   ],
   "source": [
    "# Crea una Serie con datos de ventas mensuales para diferentes productos.\n",
    "ventas_mensuales = pd.Series([10, 20, 32, 22, 23, 12], name='Ventas')\n",
    "\n",
    "# Crea un índice de fechas para representar los meses \n",
    "fechas = pd.date_range(start='2023-01-01', periods=len(ventas_mensuales), freq='M')\n",
    "\n",
    "# Asigna el índice a la Serie\n",
    "ventas_mensuales.index = fechas\n",
    "\n",
    "# Agrupa los datos por trimestre y calcula la media de ventas para cada trimestre.\n",
    "ventas_trimestrales = ventas_mensuales.resample('Q').mean()\n",
    "\n",
    "print(ventas_trimestrales)\n"
   ]
  },
  {
   "cell_type": "code",
   "execution_count": null,
   "id": "1b7d4b6f",
   "metadata": {},
   "outputs": [],
   "source": []
  },
  {
   "cell_type": "code",
   "execution_count": null,
   "id": "c5212fae",
   "metadata": {},
   "outputs": [],
   "source": []
  },
  {
   "cell_type": "code",
   "execution_count": null,
   "id": "6d9b7fd8",
   "metadata": {},
   "outputs": [],
   "source": []
  },
  {
   "cell_type": "code",
   "execution_count": null,
   "id": "6189c330",
   "metadata": {},
   "outputs": [],
   "source": []
  }
 ],
 "metadata": {
  "kernelspec": {
   "display_name": "Python 3 (ipykernel)",
   "language": "python",
   "name": "python3"
  },
  "language_info": {
   "codemirror_mode": {
    "name": "ipython",
    "version": 3
   },
   "file_extension": ".py",
   "mimetype": "text/x-python",
   "name": "python",
   "nbconvert_exporter": "python",
   "pygments_lexer": "ipython3",
   "version": "3.11.3"
  }
 },
 "nbformat": 4,
 "nbformat_minor": 5
}
