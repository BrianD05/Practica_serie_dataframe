{
 "cells": [
  {
   "cell_type": "code",
   "execution_count": 3,
   "id": "5f46eda6",
   "metadata": {},
   "outputs": [],
   "source": [
    "import pandas as pd"
   ]
  },
  {
   "cell_type": "code",
   "execution_count": 6,
   "id": "a66659da",
   "metadata": {},
   "outputs": [
    {
     "name": "stdout",
     "output_type": "stream",
     "text": [
      "0        Azul\n",
      "1    Amarillo\n",
      "2        Rojo\n",
      "3       Verde\n",
      "4     Naranja\n",
      "5     Violeta\n",
      "Name: Colores Favoritos, dtype: object\n"
     ]
    }
   ],
   "source": [
    "#Crea una Serie con tus colores favoritos\n",
    "\n",
    "colores_favoritos = pd.Series([\"Azul\",\"Amarillo\",\"Rojo\",\"Verde\",\"Naranja\",\"Violeta\"],name = \"Colores Favoritos\")\n",
    "\n",
    "print(colores_favoritos)"
   ]
  },
  {
   "cell_type": "code",
   "execution_count": 10,
   "id": "3c2762ed",
   "metadata": {},
   "outputs": [
    {
     "name": "stdout",
     "output_type": "stream",
     "text": [
      "0        Azul\n",
      "1    Amarillo\n",
      "Name: Colores Favoritos, dtype: object\n",
      "\n",
      "0        Azul\n",
      "1    Amarillo\n",
      "Name: Colores Favoritos, dtype: object\n"
     ]
    }
   ],
   "source": [
    "#Muestra solo los dos primeros elementos de la Serie\n",
    "\n",
    "indice_colores = colores_favoritos[0:2]\n",
    "\n",
    "print(indice_colores)\n",
    "\n",
    "#Otra Forma de Hacerlo\n",
    "\n",
    "indice_colores1 = colores_favoritos.head(2)\n",
    "\n",
    "print() #Salto de linea\n",
    "print(indice_colores1)"
   ]
  },
  {
   "cell_type": "code",
   "execution_count": 11,
   "id": "24ab9d8a",
   "metadata": {},
   "outputs": [
    {
     "name": "stdout",
     "output_type": "stream",
     "text": [
      "15\n"
     ]
    }
   ],
   "source": [
    "# Calcula la suma de una Serie de números del 1 al 5\n",
    "\n",
    "numeros_series = pd.Series([1,2,3,4,5])\n",
    "\n",
    "suma = numeros_series.sum()\n",
    "\n",
    "print(suma)"
   ]
  },
  {
   "cell_type": "code",
   "execution_count": 13,
   "id": "06ddc6f2",
   "metadata": {},
   "outputs": [
    {
     "name": "stdout",
     "output_type": "stream",
     "text": [
      "Titanic       195\n",
      "Avatar        162\n",
      "El Padrino    180\n",
      "dtype: int64\n"
     ]
    }
   ],
   "source": [
    "#Crea una Serie con la longitud de algunas de tus películas favoritas\n",
    "\n",
    "longitud_peliculas = pd.Series({\"Titanic\":195,\"Avatar\":162,\"El Padrino\":180})\n",
    "\n",
    "print(longitud_peliculas)"
   ]
  },
  {
   "cell_type": "code",
   "execution_count": 15,
   "id": "69cb1f77",
   "metadata": {},
   "outputs": [
    {
     "name": "stdout",
     "output_type": "stream",
     "text": [
      "Titanic    195\n",
      "dtype: int64\n"
     ]
    }
   ],
   "source": [
    "#Filtra las películas con una duración mayor a 180 minutos\n",
    "\n",
    "filtrado_pelicula = longitud_peliculas[longitud_peliculas > 180]\n",
    "\n",
    "print(filtrado_pelicula)"
   ]
  },
  {
   "cell_type": "code",
   "execution_count": 17,
   "id": "67e9541a",
   "metadata": {},
   "outputs": [
    {
     "name": "stdout",
     "output_type": "stream",
     "text": [
      "0    25\n",
      "1    24\n",
      "2    21\n",
      "3    22\n",
      "4    11\n",
      "5    55\n",
      "6    22\n",
      "Name: Temperaturas Semanal, dtype: int64\n"
     ]
    }
   ],
   "source": [
    "#Crea una Serie con la temperatura diaria de tu ciudad durante una semana\n",
    "\n",
    "temperaturas_semana = pd.Series([25,24,21,22,11,55,22],name = \"Temperaturas Semanal\")\n",
    "\n",
    "print(temperaturas_semana)"
   ]
  },
  {
   "cell_type": "code",
   "execution_count": 19,
   "id": "897248a8",
   "metadata": {},
   "outputs": [
    {
     "name": "stdout",
     "output_type": "stream",
     "text": [
      "25.714285714285715\n"
     ]
    }
   ],
   "source": [
    "#Calcula la temperatura media de la semana.\n",
    "\n",
    "temperatura_media = temperaturas_semana.mean()\n",
    "\n",
    "print(temperatura_media)"
   ]
  },
  {
   "cell_type": "code",
   "execution_count": 22,
   "id": "1ea22f6e",
   "metadata": {},
   "outputs": [
    {
     "name": "stdout",
     "output_type": "stream",
     "text": [
      "ProductoA    45.0\n",
      "ProductoB    36.0\n",
      "ProductoC    19.8\n",
      "dtype: float64\n"
     ]
    }
   ],
   "source": [
    "#Crea una Serie con precios de productos y aplica un descuento del 10%\n",
    "\n",
    "precio_productos = pd.Series({\"ProductoA\":50,\"ProductoB\":40,\"ProductoC\":22})\n",
    "\n",
    "descuento_precio = precio_productos * 0.9\n",
    "\n",
    "\n",
    "print(descuento_precio)"
   ]
  },
  {
   "cell_type": "code",
   "execution_count": null,
   "id": "176a8a26",
   "metadata": {},
   "outputs": [],
   "source": [
    "#Combina dos Series y elimina los valores duplicados\n",
    "\n"
   ]
  },
  {
   "cell_type": "code",
   "execution_count": 24,
   "id": "c8c0899f",
   "metadata": {},
   "outputs": [
    {
     "name": "stdout",
     "output_type": "stream",
     "text": [
      "0    1\n",
      "1    2\n",
      "2    3\n",
      "3    4\n",
      "2    5\n",
      "3    6\n",
      "dtype: int64\n"
     ]
    }
   ],
   "source": [
    "serie1 = pd.Series([1, 2, 3, 4])\n",
    "serie2 = pd.Series([3, 4, 5, 6])\n",
    "\n",
    "serie_combinada_sin_duplicados = pd.concat([serie1,serie2]).drop_duplicates()\n",
    "\n",
    "print(serie_combinada_sin_duplicados)"
   ]
  },
  {
   "cell_type": "code",
   "execution_count": 26,
   "id": "b21a3c34",
   "metadata": {},
   "outputs": [
    {
     "name": "stdout",
     "output_type": "stream",
     "text": [
      "1    1\n",
      "2    1\n",
      "3    1\n",
      "4    1\n",
      "5    1\n",
      "6    1\n",
      "dtype: int64\n"
     ]
    }
   ],
   "source": [
    "#Cuenta la frecuencia de cada elemento en una Serie\n",
    "\n",
    "frecuencia_elementos = serie_combinada_sin_duplicados.value_counts()\n",
    "\n",
    "print(frecuencia_elementos)"
   ]
  },
  {
   "cell_type": "code",
   "execution_count": 27,
   "id": "333fab19",
   "metadata": {},
   "outputs": [
    {
     "name": "stdout",
     "output_type": "stream",
     "text": [
      "DatetimeIndex(['2023-01-01', '2023-01-02', '2023-01-03', '2023-01-04',\n",
      "               '2023-01-05', '2023-01-06', '2023-01-07', '2023-01-08',\n",
      "               '2023-01-09', '2023-01-10', '2023-01-11', '2023-01-12',\n",
      "               '2023-01-13', '2023-01-14', '2023-01-15', '2023-01-16',\n",
      "               '2023-01-17', '2023-01-18', '2023-01-19', '2023-01-20',\n",
      "               '2023-01-21', '2023-01-22', '2023-01-23', '2023-01-24',\n",
      "               '2023-01-25', '2023-01-26', '2023-01-27', '2023-01-28',\n",
      "               '2023-01-29', '2023-01-30'],\n",
      "              dtype='datetime64[ns]', freq='D')\n",
      "\n",
      "Index(['Sunday', 'Monday', 'Tuesday', 'Wednesday', 'Thursday', 'Friday',\n",
      "       'Saturday', 'Sunday', 'Monday', 'Tuesday', 'Wednesday', 'Thursday',\n",
      "       'Friday', 'Saturday', 'Sunday', 'Monday', 'Tuesday', 'Wednesday',\n",
      "       'Thursday', 'Friday', 'Saturday', 'Sunday', 'Monday', 'Tuesday',\n",
      "       'Wednesday', 'Thursday', 'Friday', 'Saturday', 'Sunday', 'Monday'],\n",
      "      dtype='object')\n"
     ]
    }
   ],
   "source": [
    "#Crea una Serie de fechas para representar un mes y muestra el día de la semana correspondiente para cada fecha.\n",
    "\n",
    "fechas_mes = pd.date_range(start = \"2023-01-01\",periods = 30,freq = \"D\")\n",
    "\n",
    "dias_semana = fechas_mes.day_name()\n",
    "\n",
    "print(fechas_mes)\n",
    "\n",
    "print()\n",
    "\n",
    "print(dias_semana)"
   ]
  },
  {
   "cell_type": "code",
   "execution_count": 28,
   "id": "e5e3f1d8",
   "metadata": {},
   "outputs": [
    {
     "name": "stdout",
     "output_type": "stream",
     "text": [
      "0          NaN\n",
      "1    20.000000\n",
      "2   -25.000000\n",
      "3    22.222222\n",
      "4    18.181818\n",
      "dtype: float64\n"
     ]
    }
   ],
   "source": [
    "# Crea una Serie con datos de ventas mensuales y calcula el porcentaje de cambio mensual\n",
    "\n",
    "ventas_mensuales = pd.Series([100,120,90,110,130])\n",
    "cambio_mensual = ventas_mensuales.pct_change() * 100\n",
    "\n",
    "print(cambio_mensual)"
   ]
  },
  {
   "cell_type": "code",
   "execution_count": 31,
   "id": "8008c86d",
   "metadata": {},
   "outputs": [
    {
     "data": {
      "text/plain": [
       "2023-03-31    310\n",
       "2023-06-30    550\n",
       "Freq: Q-DEC, dtype: int64"
      ]
     },
     "execution_count": 31,
     "metadata": {},
     "output_type": "execute_result"
    }
   ],
   "source": [
    "#Agrupa una Serie temporal por trimestre y calcula la suma acumulativa para cada trimestre\n",
    "\n",
    "# Crea un índice de fechas para representar los meses (puedes ajustar según tus necesidades).\n",
    "fechas = pd.date_range(start='2023-01-01', periods=len(ventas_mensuales), freq='M')\n",
    "\n",
    "# Asigna el índice a la Serie\n",
    "ventas_mensuales.index = fechas\n",
    "ventas_mensuales.resample('Q').sum().cumsum()\n",
    "\n"
   ]
  },
  {
   "cell_type": "code",
   "execution_count": 32,
   "id": "94477b0d",
   "metadata": {},
   "outputs": [
    {
     "name": "stdout",
     "output_type": "stream",
     "text": [
      "   Gato  Perro  Pájaro\n",
      "0     1      0       0\n",
      "1     0      1       0\n",
      "2     1      0       0\n",
      "3     0      0       1\n"
     ]
    }
   ],
   "source": [
    "#Crea una Serie con datos categóricos y aplica one-hot encoding\n",
    "\n",
    "categorias = pd.Series(['Gato', 'Perro', 'Gato', 'Pájaro'])\n",
    "one_hot_encoding = pd.get_dummies(categorias)\n",
    "\n",
    "print(one_hot_encoding)\n"
   ]
  },
  {
   "cell_type": "code",
   "execution_count": 35,
   "id": "50d857b7",
   "metadata": {},
   "outputs": [
    {
     "name": "stdout",
     "output_type": "stream",
     "text": [
      "0     NaN\n",
      "1    -1.0\n",
      "2    -3.0\n",
      "3     1.0\n",
      "4   -11.0\n",
      "5    44.0\n",
      "6   -33.0\n",
      "Name: Temperaturas Semanal, dtype: float64\n"
     ]
    }
   ],
   "source": [
    "#Calcula la diferencia entre cada elemento y su elemento anterior en una Serie\n",
    "\n",
    "diferencia_elementos = temperaturas_semana.diff()\n",
    "\n",
    "print(diferencia_elementos)\n"
   ]
  },
  {
   "cell_type": "code",
   "execution_count": null,
   "id": "a8e9cad9",
   "metadata": {},
   "outputs": [],
   "source": []
  },
  {
   "cell_type": "code",
   "execution_count": null,
   "id": "c133deac",
   "metadata": {},
   "outputs": [],
   "source": []
  },
  {
   "cell_type": "code",
   "execution_count": null,
   "id": "4c9d7bd6",
   "metadata": {},
   "outputs": [],
   "source": []
  },
  {
   "cell_type": "code",
   "execution_count": null,
   "id": "cb491b12",
   "metadata": {},
   "outputs": [],
   "source": []
  }
 ],
 "metadata": {
  "kernelspec": {
   "display_name": "Python 3 (ipykernel)",
   "language": "python",
   "name": "python3"
  },
  "language_info": {
   "codemirror_mode": {
    "name": "ipython",
    "version": 3
   },
   "file_extension": ".py",
   "mimetype": "text/x-python",
   "name": "python",
   "nbconvert_exporter": "python",
   "pygments_lexer": "ipython3",
   "version": "3.11.3"
  }
 },
 "nbformat": 4,
 "nbformat_minor": 5
}
