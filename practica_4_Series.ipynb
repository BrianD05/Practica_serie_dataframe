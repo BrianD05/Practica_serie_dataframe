{
 "cells": [
  {
   "cell_type": "code",
   "execution_count": 13,
   "id": "e9f3d276",
   "metadata": {},
   "outputs": [
    {
     "name": "stdout",
     "output_type": "stream",
     "text": [
      "0    52\n",
      "1    93\n",
      "2    15\n",
      "3    72\n",
      "4    61\n",
      "5    21\n",
      "6    83\n",
      "7    87\n",
      "8    75\n",
      "9    75\n",
      "Name: Datos Aleatorios, dtype: int32\n"
     ]
    }
   ],
   "source": [
    "# Crea una Serie con números aleatorios\n",
    "import pandas as pd\n",
    "import numpy as np\n",
    "\n",
    "np.random.seed(42)\n",
    "\n",
    "datos_aleatorios = pd.Series(np.random.randint(1,100,10),name = \"Datos Aleatorios\")\n",
    "\n",
    "print(datos_aleatorios)\n"
   ]
  },
  {
   "cell_type": "code",
   "execution_count": 14,
   "id": "e53590fb",
   "metadata": {},
   "outputs": [
    {
     "name": "stdout",
     "output_type": "stream",
     "text": [
      "El maximo valor es:  93\n",
      "El minimo valor es:  15\n",
      "La suma es:  634\n"
     ]
    }
   ],
   "source": [
    "# Encuentra el valor máximo, mínimo y la suma de la Serie\n",
    "\n",
    "maximo_valor = datos_aleatorios.max()\n",
    "minimo_valor = datos_aleatorios.min()\n",
    "suma = datos_aleatorios.sum()\n",
    "\n",
    "print(\"El maximo valor es: \",maximo_valor)\n",
    "print(\"El minimo valor es: \",minimo_valor)\n",
    "print(\"La suma es: \",suma)"
   ]
  },
  {
   "cell_type": "markdown",
   "id": "43a5128f",
   "metadata": {},
   "source": [
    "# Ejercicio : Manipulación de Texto"
   ]
  },
  {
   "cell_type": "code",
   "execution_count": 21,
   "id": "0d6cd56c",
   "metadata": {},
   "outputs": [
    {
     "name": "stdout",
     "output_type": "stream",
     "text": [
      "Nombres y Apellidos:\n",
      "      0       1\n",
      "0  Juan   Pérez\n",
      "1   Ana   Gómez\n",
      "2  Luis  García\n"
     ]
    }
   ],
   "source": [
    "# Crea una Serie de nombres de personas\n",
    "nombres_personas = pd.Series(['Juan Pérez', 'Ana Gómez', 'Luis García'], name='Nombres_Personas')\n",
    "\n",
    "# Divide los nombres en nombre y apellido, y muestra el resultado\n",
    "nombres_apellidos = nombres_personas.str.split(expand=True)\n",
    "print(\"Nombres y Apellidos:\")\n",
    "print(nombres_apellidos)\n"
   ]
  },
  {
   "cell_type": "code",
   "execution_count": 22,
   "id": "6db51bff",
   "metadata": {},
   "outputs": [
    {
     "name": "stdout",
     "output_type": "stream",
     "text": [
      "1    30\n",
      "3    35\n",
      "4    28\n",
      "Name: Edades, dtype: int64\n"
     ]
    }
   ],
   "source": [
    "# Crea una Serie de edades\n",
    "\n",
    "edades = pd.Series([25,30,22,35,28],name = \"Edades\")\n",
    "\n",
    "# Filtra las edades mayores a 25 años\n",
    "\n",
    "edades_mayores_25 = edades[edades > 25]\n",
    "\n",
    "print(edades_mayores_25)\n"
   ]
  },
  {
   "cell_type": "markdown",
   "id": "3796ddad",
   "metadata": {},
   "source": [
    "# Ejercicio : Operaciones Matemáticas"
   ]
  },
  {
   "cell_type": "code",
   "execution_count": 24,
   "id": "0c2a1f75",
   "metadata": {},
   "outputs": [
    {
     "name": "stdout",
     "output_type": "stream",
     "text": [
      "Cuadrados de los numeros\n",
      "0     1\n",
      "1     4\n",
      "2     9\n",
      "3    16\n",
      "4    25\n",
      "Name: Numeros, dtype: int64\n"
     ]
    }
   ],
   "source": [
    "# Crea una Serie de números\n",
    "\n",
    "numeros = pd.Series([1,2,3,4,5],name = \"Numeros\")\n",
    "\n",
    "#Eleva cada numero al cuadrado\n",
    "\n",
    "cuadrado_numero = numeros ** 2\n",
    "\n",
    "print(\"Cuadrados de los numeros\")\n",
    "\n",
    "print(cuadrado_numero)"
   ]
  },
  {
   "cell_type": "markdown",
   "id": "a2408768",
   "metadata": {},
   "source": [
    "# Ejercicio : Concatenación de Series"
   ]
  },
  {
   "cell_type": "code",
   "execution_count": 25,
   "id": "86942096",
   "metadata": {},
   "outputs": [],
   "source": [
    "# Crea dos Series de números\n",
    "serie_1 = pd.Series([10, 20, 30], name='Serie_1')\n",
    "serie_2 = pd.Series([40, 50, 60], name='Serie_2')"
   ]
  },
  {
   "cell_type": "code",
   "execution_count": 26,
   "id": "76b94039",
   "metadata": {},
   "outputs": [
    {
     "name": "stdout",
     "output_type": "stream",
     "text": [
      "0    10\n",
      "1    20\n",
      "2    30\n",
      "0    40\n",
      "1    50\n",
      "2    60\n",
      "dtype: int64\n"
     ]
    }
   ],
   "source": [
    "# Concatena las dos Series\n",
    "\n",
    "serie_concatenada = pd.concat([serie_1,serie_2])\n",
    "\n",
    "print(serie_concatenada)"
   ]
  },
  {
   "cell_type": "code",
   "execution_count": null,
   "id": "7e4f65d0",
   "metadata": {},
   "outputs": [],
   "source": []
  }
 ],
 "metadata": {
  "kernelspec": {
   "display_name": "Python 3 (ipykernel)",
   "language": "python",
   "name": "python3"
  },
  "language_info": {
   "codemirror_mode": {
    "name": "ipython",
    "version": 3
   },
   "file_extension": ".py",
   "mimetype": "text/x-python",
   "name": "python",
   "nbconvert_exporter": "python",
   "pygments_lexer": "ipython3",
   "version": "3.11.3"
  }
 },
 "nbformat": 4,
 "nbformat_minor": 5
}
